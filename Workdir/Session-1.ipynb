{
 "cells": [
  {
   "cell_type": "markdown",
   "metadata": {},
   "source": [
    "# Session 1\n",
    "---\n",
    "\n",
    "[Reference](http://nbviewer.jupyter.org/github/lfapython/pybasics/blob/master/Python/Beginner/unit-01-datatypes-reference.ipynb)"
   ]
  },
  {
   "cell_type": "markdown",
   "metadata": {},
   "source": [
    "### Problem 1: Smallest divisor\n",
    "write a program to find smallest divisor of a given number."
   ]
  },
  {
   "cell_type": "markdown",
   "metadata": {},
   "source": [
    "## Problems \n",
    "calculate the mean of these number 5,16,18,32,12,3,8,17,14,13"
   ]
  },
  {
   "cell_type": "code",
   "execution_count": 34,
   "metadata": {},
   "outputs": [
    {
     "data": {
      "text/plain": [
       "138"
      ]
     },
     "execution_count": 34,
     "metadata": {},
     "output_type": "execute_result"
    }
   ],
   "source": [
    "5+16+18+32+12+3+8+17+14+13"
   ]
  },
  {
   "cell_type": "code",
   "execution_count": 35,
   "metadata": {},
   "outputs": [
    {
     "data": {
      "text/plain": [
       "13.8"
      ]
     },
     "execution_count": 35,
     "metadata": {},
     "output_type": "execute_result"
    }
   ],
   "source": [
    "138/10"
   ]
  },
  {
   "cell_type": "markdown",
   "metadata": {},
   "source": [
    "### which of the above numbers are factor of 738"
   ]
  },
  {
   "cell_type": "code",
   "execution_count": 36,
   "metadata": {},
   "outputs": [
    {
     "data": {
      "text/plain": [
       "3"
      ]
     },
     "execution_count": 36,
     "metadata": {},
     "output_type": "execute_result"
    }
   ],
   "source": [
    "783%5"
   ]
  },
  {
   "cell_type": "markdown",
   "metadata": {},
   "source": [
    "783/5"
   ]
  },
  {
   "cell_type": "code",
   "execution_count": 37,
   "metadata": {},
   "outputs": [
    {
     "data": {
      "text/plain": [
       "15"
      ]
     },
     "execution_count": 37,
     "metadata": {},
     "output_type": "execute_result"
    }
   ],
   "source": [
    "783%16"
   ]
  },
  {
   "cell_type": "code",
   "execution_count": 38,
   "metadata": {},
   "outputs": [
    {
     "data": {
      "text/plain": [
       "9"
      ]
     },
     "execution_count": 38,
     "metadata": {},
     "output_type": "execute_result"
    }
   ],
   "source": [
    "783%18"
   ]
  },
  {
   "cell_type": "code",
   "execution_count": 39,
   "metadata": {},
   "outputs": [
    {
     "data": {
      "text/plain": [
       "15"
      ]
     },
     "execution_count": 39,
     "metadata": {},
     "output_type": "execute_result"
    }
   ],
   "source": [
    "783%32"
   ]
  },
  {
   "cell_type": "markdown",
   "metadata": {},
   "source": [
    "### find the percentage of 738 given by adove number "
   ]
  },
  {
   "cell_type": "code",
   "execution_count": 40,
   "metadata": {},
   "outputs": [
    {
     "data": {
      "text/plain": [
       "36.9"
      ]
     },
     "execution_count": 40,
     "metadata": {},
     "output_type": "execute_result"
    }
   ],
   "source": [
    "(5/100)*738\n"
   ]
  },
  {
   "cell_type": "code",
   "execution_count": 41,
   "metadata": {},
   "outputs": [
    {
     "data": {
      "text/plain": [
       "118.08"
      ]
     },
     "execution_count": 41,
     "metadata": {},
     "output_type": "execute_result"
    }
   ],
   "source": [
    "16/100*738"
   ]
  },
  {
   "cell_type": "code",
   "execution_count": 42,
   "metadata": {},
   "outputs": [
    {
     "data": {
      "text/plain": [
       "125.46000000000001"
      ]
     },
     "execution_count": 42,
     "metadata": {},
     "output_type": "execute_result"
    }
   ],
   "source": [
    " 17/100*738"
   ]
  },
  {
   "cell_type": "code",
   "execution_count": 43,
   "metadata": {},
   "outputs": [
    {
     "data": {
      "text/plain": [
       "118.08"
      ]
     },
     "execution_count": 43,
     "metadata": {},
     "output_type": "execute_result"
    }
   ],
   "source": [
    ".16*738"
   ]
  },
  {
   "cell_type": "code",
   "execution_count": 44,
   "metadata": {},
   "outputs": [
    {
     "data": {
      "text/plain": [
       "36.9"
      ]
     },
     "execution_count": 44,
     "metadata": {},
     "output_type": "execute_result"
    }
   ],
   "source": [
    ".05*738"
   ]
  },
  {
   "cell_type": "code",
   "execution_count": 45,
   "metadata": {},
   "outputs": [
    {
     "data": {
      "text/plain": [
       "125.46000000000001"
      ]
     },
     "execution_count": 45,
     "metadata": {},
     "output_type": "execute_result"
    }
   ],
   "source": [
    ".17*738"
   ]
  },
  {
   "cell_type": "code",
   "execution_count": null,
   "metadata": {
    "collapsed": true
   },
   "outputs": [],
   "source": []
  },
  {
   "cell_type": "code",
   "execution_count": null,
   "metadata": {
    "collapsed": true
   },
   "outputs": [],
   "source": []
  },
  {
   "cell_type": "markdown",
   "metadata": {},
   "source": []
  },
  {
   "cell_type": "markdown",
   "metadata": {},
   "source": [
    "smallest divisor"
   ]
  },
  {
   "cell_type": "code",
   "execution_count": 46,
   "metadata": {
    "collapsed": true
   },
   "outputs": [],
   "source": [
    "number1 = 18"
   ]
  },
  {
   "cell_type": "code",
   "execution_count": 47,
   "metadata": {},
   "outputs": [
    {
     "data": {
      "text/plain": [
       "0"
      ]
     },
     "execution_count": 47,
     "metadata": {},
     "output_type": "execute_result"
    }
   ],
   "source": [
    "number1 % 2"
   ]
  },
  {
   "cell_type": "code",
   "execution_count": 48,
   "metadata": {},
   "outputs": [
    {
     "data": {
      "text/plain": [
       "0"
      ]
     },
     "execution_count": 48,
     "metadata": {},
     "output_type": "execute_result"
    }
   ],
   "source": [
    "number1 % 3"
   ]
  },
  {
   "cell_type": "code",
   "execution_count": null,
   "metadata": {},
   "outputs": [
    {
     "data": {
      "text/plain": [
       "2"
      ]
     },
     "execution_count": 49,
     "metadata": {},
     "output_type": "execute_result"
    }
   ],
   "source": [
    "number1 % 4"
   ]
  },
  {
   "cell_type": "markdown",
   "metadata": {},
   "source": [
    "**%** is remainder operator, above number **18** is perfectly divisible by **2** and **3** while not by **4**"
   ]
  },
  {
   "cell_type": "code",
   "execution_count": null,
   "metadata": {},
   "outputs": [],
   "source": [
    "num = input(\"Enter a number\")"
   ]
  },
  {
   "cell_type": "markdown",
   "metadata": {},
   "source": [
    "*Much like __print__, __input__ is also a function, but it does exactly opposite of __print__. It get's some data from us*\n",
    "\n",
    "*What we enter inside the box, is stored in variable __num__*"
   ]
  },
  {
   "cell_type": "code",
   "execution_count": null,
   "metadata": {},
   "outputs": [],
   "source": [
    "num"
   ]
  },
  {
   "cell_type": "markdown",
   "metadata": {},
   "source": [
    "*The stored data is always string*\n",
    "\n",
    "What happens if we tried to divide num by 2 ?"
   ]
  },
  {
   "cell_type": "code",
   "execution_count": null,
   "metadata": {},
   "outputs": [],
   "source": [
    "num / 2"
   ]
  },
  {
   "cell_type": "markdown",
   "metadata": {},
   "source": [
    "Here is what happens:\n",
    "\n",
    "1. __/__ is a division operator, ie we are trying to divide num by __2__\n",
    "2. It gave us __TypeError__, it means we are trying to do something _stupid_.\n",
    "    - Like in this case trying to divide a string, remember __'25'__ above in quotes.\n",
    "\n",
    "Trying to do **num / 2** is same as **'25' / 2** like below,"
   ]
  },
  {
   "cell_type": "code",
   "execution_count": null,
   "metadata": {},
   "outputs": [],
   "source": [
    "'25' / 2"
   ]
  },
  {
   "cell_type": "markdown",
   "metadata": {},
   "source": [
    "So what to do ?\n",
    "\n",
    "1. First we need to convert that string to a number\n",
    "2. Then divide the number by 2"
   ]
  },
  {
   "cell_type": "code",
   "execution_count": null,
   "metadata": {},
   "outputs": [],
   "source": [
    "int('25')"
   ]
  },
  {
   "cell_type": "code",
   "execution_count": null,
   "metadata": {},
   "outputs": [],
   "source": [
    "int('25') / 2"
   ]
  },
  {
   "cell_type": "markdown",
   "metadata": {},
   "source": [
    "*__int__ converts a string to a integer*"
   ]
  },
  {
   "cell_type": "code",
   "execution_count": null,
   "metadata": {},
   "outputs": [],
   "source": [
    "float('25')"
   ]
  },
  {
   "cell_type": "markdown",
   "metadata": {},
   "source": [
    "*or in this case, __float__ converts a string to a float*\n",
    "\n",
    "**But...**"
   ]
  },
  {
   "cell_type": "code",
   "execution_count": null,
   "metadata": {},
   "outputs": [],
   "source": [
    "int('a')"
   ]
  },
  {
   "cell_type": "markdown",
   "metadata": {},
   "source": [
    "*You cannot convert a \"alphabets\" to a number this way,*\n",
    "\n",
    "*Every thing inside __\"__ or __'__ is a string.*"
   ]
  },
  {
   "cell_type": "markdown",
   "metadata": {},
   "source": [
    "*Let's get to our problem now*\n",
    "\n",
    "we have a number stored in __num__"
   ]
  },
  {
   "cell_type": "code",
   "execution_count": null,
   "metadata": {},
   "outputs": [],
   "source": [
    "num"
   ]
  },
  {
   "cell_type": "code",
   "execution_count": null,
   "metadata": {
    "collapsed": true
   },
   "outputs": [],
   "source": [
    "num = int(num)"
   ]
  },
  {
   "cell_type": "markdown",
   "metadata": {},
   "source": [
    "*We convert given string of number into a integer now, and stored that in same name ie __num__*\n",
    "\n",
    "*We can reuse a name/variable, *\n",
    "\n",
    "Let's finish our problem"
   ]
  },
  {
   "cell_type": "code",
   "execution_count": null,
   "metadata": {},
   "outputs": [],
   "source": [
    "num % 2"
   ]
  },
  {
   "cell_type": "code",
   "execution_count": null,
   "metadata": {},
   "outputs": [],
   "source": [
    "num % 3"
   ]
  },
  {
   "cell_type": "code",
   "execution_count": null,
   "metadata": {},
   "outputs": [],
   "source": [
    "num % 4"
   ]
  },
  {
   "cell_type": "code",
   "execution_count": null,
   "metadata": {
    "scrolled": true
   },
   "outputs": [],
   "source": [
    "num % 5"
   ]
  },
  {
   "cell_type": "markdown",
   "metadata": {},
   "source": [
    "\n"
   ]
  },
  {
   "cell_type": "markdown",
   "metadata": {},
   "source": [
    "*So our smallest divisor for number __25__ is __5__*"
   ]
  },
  {
   "cell_type": "markdown",
   "metadata": {},
   "source": [
    "string "
   ]
  },
  {
   "cell_type": "code",
   "execution_count": null,
   "metadata": {
    "collapsed": true
   },
   "outputs": [],
   "source": [
    "name = \"kathmandu\""
   ]
  },
  {
   "cell_type": "code",
   "execution_count": null,
   "metadata": {},
   "outputs": [],
   "source": [
    "name [0:2]"
   ]
  },
  {
   "cell_type": "code",
   "execution_count": null,
   "metadata": {},
   "outputs": [],
   "source": [
    "name. index('a')"
   ]
  },
  {
   "cell_type": "markdown",
   "metadata": {},
   "source": [
    "### Solve: Problem 1\n",
    "\n",
    "If the Roman alpabet has 26 letters, ordered as an alphabet **ABCDEFGHIJKLMNOPQSTUVWXYZ**, then an arbitrary word can be translated by rotating every letter by **13=26/2** places. Thus, **A** becomes **N**, **B** becomes **O** etc. Finally, letter **Z** is translated to **M**."
   ]
  },
  {
   "cell_type": "code",
   "execution_count": null,
   "metadata": {
    "collapsed": true
   },
   "outputs": [],
   "source": []
  },
  {
   "cell_type": "code",
   "execution_count": null,
   "metadata": {},
   "outputs": [],
   "source": [
    "alphabets = 'ABCDEFGHIJKLMNOPQRSTUVWXYZ'\n",
    "given = input(\"Enter a alphabet: \")\n",
    "given = given.upper()\n",
    "current = alphabets.index(given)\n",
    "result = current + 13\n",
    "alphabets[result]"
   ]
  },
  {
   "cell_type": "markdown",
   "metadata": {},
   "source": [
    "*Review line by line*\n",
    "\n",
    "```python\n",
    "1. alphabets = 'ABCDEFGHIJKLMNOPQRSTUVWXYZ'\n",
    "2. given = input(\"Enter a alphabet: \")\n",
    "3. given = given.upper()\n",
    "4. current = alphabets.index(given)\n",
    "5. result = current + 13\n",
    "6. alphabets[result]\n",
    "```\n",
    "\n",
    "1. we are storing all uppercase characters in a string named __alphabets__\n",
    "2. we are getting any letter from user\n",
    "3. if user enters lowercase letter we convert it to uppercase\n",
    "4. we find assigned number of that letter\n",
    "    - in every string a number is assigned to characters in an incremental order\n",
    "    - i.e _A_ is assigned _0_, _B_ _1_ ... _Z_ = _25_\n",
    "    - those numbers are called index\n",
    "5. we added _13_ to that _index_ as required.\n",
    "6. we access the letter in the calculated index _result_\n",
    "    - i.e in case of _b_ it is _1 + 13_ = _14_\n",
    "    - _alphabets[14]_ means give us the letter/character whose index is _14_ "
   ]
  },
  {
   "cell_type": "markdown",
   "metadata": {
    "collapsed": true
   },
   "source": [
    "*It gave use result for B, C, D and so on but what will it give if we passed Z ?*"
   ]
  },
  {
   "cell_type": "code",
   "execution_count": null,
   "metadata": {},
   "outputs": [],
   "source": [
    "alphabets = 'ABCDEFGHIJKLMNOPQRSTUVWXYZ'\n",
    "given = input(\"Enter a alphabet: \")\n",
    "given = given.upper()\n",
    "current = alphabets.index(given)\n",
    "result = current + 13\n",
    "alphabets[result]"
   ]
  },
  {
   "cell_type": "markdown",
   "metadata": {},
   "source": [
    "*So what happened here, in case of __Z__*\n",
    "\n",
    "4. index of _Z_ is _25_\n",
    "5. we added _25 + 13_ = _38_\n",
    "6. we tried to access _alphabets[38]_\n",
    "    - but _alphabets_ has index only from _0_ to _25_\n",
    "\n",
    "*This means we need \"0\" if result is \"26\" \"1\" for \"27\"*"
   ]
  },
  {
   "cell_type": "code",
   "execution_count": null,
   "metadata": {},
   "outputs": [],
   "source": [
    "alphabets = 'ABCDEFGHIJKLMNOPQRSTUVWXYZ'\n",
    "given = input(\"Enter a alphabet: \")\n",
    "given = given.upper()\n",
    "current = alphabets.index(given)\n",
    "result = (current + 13) - (current // 13) * 26\n",
    "alphabets[result]"
   ]
  },
  {
   "cell_type": "markdown",
   "metadata": {},
   "source": [
    "*What did we changed*\n",
    "\n",
    "1. we substract _26_ from _result_ if _current_ is more than _12_ ie _result_ will be more than _25_.\n",
    "    - we divided _current_ with _13_ which will result in either _0_ or _1_ since it is integer division and maximum index is _25_.\n",
    "    - if _current_ value is _13_ or more _current // 13_ will be _1_ and _1 * 26_ will be 26.\n",
    "    - if _current_ value is _12_ or less _current // 13_ will be _0_ and _0 * 26_ will be _0_ and result will be _current + 13_.\n",
    "    \n",
    "We will output result in nice way"
   ]
  },
  {
   "cell_type": "code",
   "execution_count": null,
   "metadata": {},
   "outputs": [],
   "source": [
    "alphabets = 'ABCDEFGHIJKLMNOPQRSTUVWXYZ'\n",
    "given = input(\"Enter a alphabet: \")\n",
    "given = given.upper()\n",
    "current = alphabets.index(given)\n",
    "result = (current + 13) - (current // 13) * 26\n",
    "print('You have given \"' + given + '\" for which result is \"' + alphabets[result] + '\".')"
   ]
  },
  {
   "cell_type": "markdown",
   "metadata": {},
   "source": [
    "Above we have created a longer string by adding multiple small string together with addition__( + )__ operator.\n",
    "\n",
    "*Joining multiple string to form single string is called __concatenation__.*"
   ]
  },
  {
   "cell_type": "code",
   "execution_count": null,
   "metadata": {
    "collapsed": true
   },
   "outputs": [],
   "source": []
  },
  {
   "cell_type": "markdown",
   "metadata": {},
   "source": [
    "###pratice\n",
    "codeabbey.com\n",
    "projectleuler.com\n",
    "pratice paython\n"
   ]
  },
  {
   "cell_type": "code",
   "execution_count": null,
   "metadata": {
    "collapsed": true
   },
   "outputs": [],
   "source": []
  },
  {
   "cell_type": "code",
   "execution_count": null,
   "metadata": {
    "collapsed": true
   },
   "outputs": [],
   "source": []
  },
  {
   "cell_type": "code",
   "execution_count": null,
   "metadata": {
    "collapsed": true
   },
   "outputs": [],
   "source": []
  },
  {
   "cell_type": "markdown",
   "metadata": {},
   "source": [
    "## Simple Problems\n",
    "\n",
    "- [http://codingbat.com/prob/p182144](http://codingbat.com/prob/p182144)"
   ]
  },
  {
   "cell_type": "code",
   "execution_count": 32,
   "metadata": {},
   "outputs": [
    {
     "name": "stdout",
     "output_type": "stream",
     "text": [
      "HiByeByeHi\n"
     ]
    }
   ],
   "source": [
    "# Hi, Bye -> HiByeByeHi\n",
    "\n",
    "# we are defining names for each words\n",
    "first_word = 'Hi'\n",
    "second_word = 'Bye'\n",
    "\n",
    "final_word = first_word + second_word * 2 + first_word\n",
    "print(final_word)"
   ]
  },
  {
   "cell_type": "markdown",
   "metadata": {},
   "source": [
    "_when **\\*** is used with string, it repeates the given string __times__ the given number._"
   ]
  },
  {
   "cell_type": "code",
   "execution_count": 33,
   "metadata": {},
   "outputs": [
    {
     "name": "stdout",
     "output_type": "stream",
     "text": [
      "Result is 'HiByeByeHi'\n"
     ]
    }
   ],
   "source": [
    "print(\"Result is '{}'\".format(final_word))"
   ]
  },
  {
   "cell_type": "markdown",
   "metadata": {},
   "source": [
    "*See. reference on [string formatting]().*"
   ]
  },
  {
   "cell_type": "markdown",
   "metadata": {},
   "source": [
    "### Show all characters of the word"
   ]
  },
  {
   "cell_type": "code",
   "execution_count": 29,
   "metadata": {},
   "outputs": [
    {
     "name": "stdout",
     "output_type": "stream",
     "text": [
      "Enter a word: hello you\n"
     ]
    }
   ],
   "source": [
    "word = input(\"Enter a word: \")"
   ]
  },
  {
   "cell_type": "code",
   "execution_count": 30,
   "metadata": {},
   "outputs": [
    {
     "name": "stdout",
     "output_type": "stream",
     "text": [
      "The 0th character of word is: h\n",
      "The 1th character of word is: e\n",
      "The 2th character of word is: l\n",
      "The 2th character of word is: l\n",
      "The 4th character of word is: o\n",
      "The 5th character of word is:  \n",
      "The 6th character of word is: y\n",
      "The 4th character of word is: o\n",
      "The 8th character of word is: u\n"
     ]
    }
   ],
   "source": [
    "for char in word:\n",
    "    print(\"The {}th character of word is: {}\".format(word.index(char), char))"
   ]
  },
  {
   "cell_type": "markdown",
   "metadata": {},
   "source": [
    "__for__ means go through each character one by one, and put each character to name __char__.\n",
    "\n",
    "*This technique of cycling through using __for__ is called looping*\n",
    "\n",
    "*Note: Don't forget to put \"__:__\" at the end of __for__ line, and remember to start __print__ below, 4 spaces from left.*"
   ]
  },
  {
   "cell_type": "code",
   "execution_count": null,
   "metadata": {
    "collapsed": true
   },
   "outputs": [],
   "source": []
  },
  {
   "cell_type": "markdown",
   "metadata": {
    "collapsed": true
   },
   "source": [
    "### How many words are there in a paragraph ?"
   ]
  },
  {
   "cell_type": "code",
   "execution_count": 31,
   "metadata": {
    "collapsed": true
   },
   "outputs": [],
   "source": [
    "paragraph = '''\n",
    "My country Nepal is surrounding by two countries. China lies in the east side and west, north and south is cover by India. \n",
    "It is in the northern hemisphere. It has three geographical zones. Himalayan, Mountainous and tarai. \n",
    "We have monsoon climate. It is very cold and dry in winter and hot, stormy and rainy in summer. \n",
    "It is rich in natural beauty and resources. It has long and wide rivers like koshi, Gandaki, and Karnali. \n",
    "We have large lakes like Rupa, Begnas, and Rara etc. like-wise we have green valleys, lovely water falls etc.  \n",
    "It is rich in religious and historical heritages. Lumbini, Gorkha, Janakpur, Kathmandu are the famous examples.\n",
    "'''"
   ]
  },
  {
   "cell_type": "code",
   "execution_count": 32,
   "metadata": {},
   "outputs": [
    {
     "name": "stdout",
     "output_type": "stream",
     "text": [
      "Total number of words = 111\n"
     ]
    }
   ],
   "source": [
    "words_count = 0\n",
    "for _ in paragraph.split():\n",
    "    words_count += 1\n",
    "print(\"Total number of words = {}\".format(words_count))"
   ]
  },
  {
   "cell_type": "markdown",
   "metadata": {},
   "source": [
    "*Let's review line by line*\n",
    "\n",
    "1. We assign a long paragraph to name/variable __paragraph__\n",
    "2. Now we split the paragraph.\n",
    "    - _split()_ is a string method. ( the function which comes attached to any string. )\n",
    "    - what _split_ does is splits paragraph by _space_ ie _\"Hello World\"_ becomes _\"Hello\"_ and _\"World\"_.\n",
    "3. we loop through the words ( in this case not character like above ) and assign each word to **\\_**.\n",
    "    - now when we have one word, we increment **words\\_count** variable by one, and another and so on."
   ]
  },
  {
   "cell_type": "code",
   "execution_count": null,
   "metadata": {
    "collapsed": true
   },
   "outputs": [],
   "source": []
  }
 ],
 "metadata": {
  "anaconda-cloud": {},
  "kernelspec": {
   "display_name": "Python 3",
   "language": "python",
   "name": "python3"
  },
  "language_info": {
   "codemirror_mode": {
    "name": "ipython",
    "version": 3
   },
   "file_extension": ".py",
   "mimetype": "text/x-python",
   "name": "python",
   "nbconvert_exporter": "python",
   "pygments_lexer": "ipython3",
   "version": "3.6.1"
  }
 },
 "nbformat": 4,
 "nbformat_minor": 1
}
