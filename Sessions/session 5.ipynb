{
 "cells": [
  {
   "cell_type": "markdown",
   "metadata": {},
   "source": [
    "# tuple and conditionals( if-else)"
   ]
  },
  {
   "cell_type": "markdown",
   "metadata": {},
   "source": [
    "## add consecutive elements of given three lists "
   ]
  },
  {
   "cell_type": "code",
   "execution_count": 1,
   "metadata": {},
   "outputs": [
    {
     "name": "stdout",
     "output_type": "stream",
     "text": [
      "enter 5 numbers55 88 88 99 99 \n",
      "enter 5 numbers77 77 44 22 33 \n",
      "enter 5 numbers22 33 44 55 44\n"
     ]
    }
   ],
   "source": [
    "array_a=input(\"enter 5 numbers\")\n",
    "array_b=input(\"enter 5 numbers\")\n",
    "array_c=input(\"enter 5 numbers\")"
   ]
  },
  {
   "cell_type": "code",
   "execution_count": 2,
   "metadata": {},
   "outputs": [
    {
     "data": {
      "text/plain": [
       "'55 88 88 99 99 '"
      ]
     },
     "execution_count": 2,
     "metadata": {},
     "output_type": "execute_result"
    }
   ],
   "source": [
    "array_a"
   ]
  },
  {
   "cell_type": "code",
   "execution_count": 3,
   "metadata": {
    "collapsed": true
   },
   "outputs": [],
   "source": [
    "array_a = array_a.split()\n",
    "array_b = array_b.split()\n",
    "array_c = array_c.split()"
   ]
  },
  {
   "cell_type": "code",
   "execution_count": 4,
   "metadata": {},
   "outputs": [
    {
     "ename": "SyntaxError",
     "evalue": "invalid syntax (<ipython-input-4-6f79399a7bab>, line 4)",
     "output_type": "error",
     "traceback": [
      "\u001b[1;36m  File \u001b[1;32m\"<ipython-input-4-6f79399a7bab>\"\u001b[1;36m, line \u001b[1;32m4\u001b[0m\n\u001b[1;33m    sum_of_array.append(new_value)\u001b[0m\n\u001b[1;37m               ^\u001b[0m\n\u001b[1;31mSyntaxError\u001b[0m\u001b[1;31m:\u001b[0m invalid syntax\n"
     ]
    }
   ],
   "source": [
    "sum_of_array=[]\n",
    "for i in range(0,len(array_a)):\n",
    "    new_value= int(array_a(i)+int(array_b(i)+int(array_c(i)))\n",
    "    sum_of_array.append(new_value)\n",
    "print(sum_of_array) \n",
    "                   "
   ]
  },
  {
   "cell_type": "code",
   "execution_count": 2,
   "metadata": {
    "collapsed": true
   },
   "outputs": [],
   "source": [
    "paragraph = \"\"\"\n",
    "I had seen little of Holmes lately. My marriage had drifted us\n",
    "away from each other. My own complete happiness, and the\n",
    "home-centred interests which rise up around the man who first\n",
    "finds himself master of his own establishment, were sufficient to\n",
    "absorb all my attention, while Holmes, who loathed every form of\n",
    "society with his whole Bohemian soul, remained in our lodgings in\n",
    "Baker Street, buried among his old books, and alternating from\n",
    "week to week between cocaine and ambition, the drowsiness of the\n",
    "drug, and the fierce energy of his own keen nature. He was still,\n",
    "as ever, deeply attracted by the study of crime, and occupied his\n",
    "immense faculties and extraordinary powers of observation in\n",
    "following out those clues, and clearing up those mysteries which\n",
    "had been abandoned as hopeless by the official police. From time\n",
    "to time I heard some vague account of his doings: of his summons\n",
    "to Odessa in the case of the Trepoff murder, of his clearing up\n",
    "of the singular tragedy of the Atkinson brothers at Trincomalee,\n",
    "and finally of the mission which he had accomplished so\n",
    "delicately and successfully for the reigning family of Holland.\n",
    "Beyond these signs of his activity, however, which I merely\n",
    "shared with all the readers of the daily press, I knew little of\n",
    "my former friend and companion.\n",
    "\"\"\""
   ]
  },
  {
   "cell_type": "code",
   "execution_count": 3,
   "metadata": {
    "collapsed": true
   },
   "outputs": [],
   "source": [
    "vowels=['a','e','i','o','u']\n"
   ]
  },
  {
   "cell_type": "code",
   "execution_count": 4,
   "metadata": {
    "collapsed": true
   },
   "outputs": [],
   "source": [
    "paragraph=paragraph.lower()\n"
   ]
  },
  {
   "cell_type": "code",
   "execution_count": 5,
   "metadata": {
    "collapsed": true
   },
   "outputs": [],
   "source": [
    "count={}\n",
    "for v in vowels:\n",
    "    count[v]=0\n",
    "    "
   ]
  },
  {
   "cell_type": "code",
   "execution_count": 6,
   "metadata": {},
   "outputs": [
    {
     "data": {
      "text/plain": [
       "{'a': 0, 'e': 0, 'i': 0, 'o': 0, 'u': 0}"
      ]
     },
     "execution_count": 6,
     "metadata": {},
     "output_type": "execute_result"
    }
   ],
   "source": [
    "count"
   ]
  },
  {
   "cell_type": "code",
   "execution_count": 8,
   "metadata": {},
   "outputs": [
    {
     "data": {
      "text/plain": [
       "{'a': 146, 'e': 266, 'i': 166, 'o': 172, 'u': 46}"
      ]
     },
     "execution_count": 8,
     "metadata": {},
     "output_type": "execute_result"
    }
   ],
   "source": [
    "for c in paragraph:\n",
    "    if'a'==c:\n",
    "        count['a']+=1\n",
    "    if'e'==c:\n",
    "        count['e']+=1\n",
    "    if 'i'==c:\n",
    "        count['i']+=1\n",
    "    if 'o'==c:\n",
    "        count[\"o\"]+=1\n",
    "    if 'u'==c:\n",
    "        count['u']+=1\n",
    "count\n"
   ]
  },
  {
   "cell_type": "code",
   "execution_count": 13,
   "metadata": {
    "collapsed": true
   },
   "outputs": [],
   "source": [
    "vowels[2]='x'"
   ]
  },
  {
   "cell_type": "markdown",
   "metadata": {},
   "source": [
    "## #tuple`"
   ]
  },
  {
   "cell_type": "code",
   "execution_count": 16,
   "metadata": {
    "collapsed": true
   },
   "outputs": [],
   "source": [
    "vowels =tuple(['a','e','i','o','u'])\n"
   ]
  },
  {
   "cell_type": "markdown",
   "metadata": {},
   "source": [
    "### ceaser chipher\n"
   ]
  },
  {
   "cell_type": "code",
   "execution_count": 51,
   "metadata": {
    "collapsed": true
   },
   "outputs": [],
   "source": [
    "def caeser_shift(message):\n",
    "    shift= 3\n",
    "    new_message=''\n",
    "    for c in message:\n",
    "        if c==\" \":\n",
    "            new_message+= chr(ord(c))\n",
    "        else:\n",
    "            new_message+= chr(ord(c)+shift)\n",
    "    return new_message\n",
    "\n"
   ]
  },
  {
   "cell_type": "code",
   "execution_count": 52,
   "metadata": {},
   "outputs": [
    {
     "data": {
      "text/plain": [
       "'khoor zruog'"
      ]
     },
     "execution_count": 52,
     "metadata": {},
     "output_type": "execute_result"
    }
   ],
   "source": [
    "caeser_shift('hello world')"
   ]
  },
  {
   "cell_type": "code",
   "execution_count": 114,
   "metadata": {
    "collapsed": true
   },
   "outputs": [],
   "source": [
    "def caeser_shift(message , shift):\n",
    "    new_message=''\n",
    "    for c in message:\n",
    "        if c==\" \":\n",
    "            new_message+= chr(ord(c))\n",
    "        else:\n",
    "            new_message+= chr(ord(c)+shift)\n",
    "    return new_message\n",
    "\n"
   ]
  },
  {
   "cell_type": "code",
   "execution_count": null,
   "metadata": {
    "collapsed": true
   },
   "outputs": [],
   "source": []
  },
  {
   "cell_type": "code",
   "execution_count": 118,
   "metadata": {},
   "outputs": [
    {
     "data": {
      "text/plain": [
       "'khoor zruog'"
      ]
     },
     "execution_count": 118,
     "metadata": {},
     "output_type": "execute_result"
    }
   ],
   "source": [
    "caeser_shift('hello world',3)"
   ]
  },
  {
   "cell_type": "code",
   "execution_count": null,
   "metadata": {
    "collapsed": true
   },
   "outputs": [],
   "source": []
  },
  {
   "cell_type": "code",
   "execution_count": null,
   "metadata": {
    "collapsed": true
   },
   "outputs": [],
   "source": []
  },
  {
   "cell_type": "code",
   "execution_count": null,
   "metadata": {
    "collapsed": true
   },
   "outputs": [],
   "source": []
  }
 ],
 "metadata": {
  "kernelspec": {
   "display_name": "Python 3",
   "language": "python",
   "name": "python3"
  },
  "language_info": {
   "codemirror_mode": {
    "name": "ipython",
    "version": 3
   },
   "file_extension": ".py",
   "mimetype": "text/x-python",
   "name": "python",
   "nbconvert_exporter": "python",
   "pygments_lexer": "ipython3",
   "version": "3.6.1"
  }
 },
 "nbformat": 4,
 "nbformat_minor": 2
}
